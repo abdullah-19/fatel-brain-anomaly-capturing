{
 "cells": [
  {
   "cell_type": "code",
   "execution_count": 1,
   "metadata": {
    "collapsed": true
   },
   "outputs": [],
   "source": [
    "import numpy as np\n",
    "import matplotlib.pyplot as plt\n",
    "import os\n",
    "import cv2\n",
    "from tqdm import tqdm \n"
   ]
  },
  {
   "cell_type": "code",
   "execution_count": 2,
   "metadata": {
    "collapsed": true
   },
   "outputs": [],
   "source": [
    "import tensorflow as tf"
   ]
  },
  {
   "cell_type": "code",
   "execution_count": 3,
   "metadata": {
    "collapsed": true
   },
   "outputs": [],
   "source": [
    "dataset = \".\\Brain\"\n",
    "\n",
    "categories = [\"Anomaly\", \"Normal\"]"
   ]
  },
  {
   "cell_type": "code",
   "execution_count": 4,
   "metadata": {
    "collapsed": true
   },
   "outputs": [],
   "source": [
    "import os"
   ]
  },
  {
   "cell_type": "code",
   "execution_count": 5,
   "metadata": {},
   "outputs": [
    {
     "name": "stdout",
     "output_type": "stream",
     "text": [
      "0\n",
      "class\t0\n",
      "image file name\txyz_a2779_35b.jpg\n"
     ]
    }
   ],
   "source": [
    "#show one image and its height widtht \n",
    "for category in categories:\n",
    "    path = os.path.join(dataset,category)\n",
    "    #print(path)\n",
    "    class_num = category.index(category) \n",
    "    print(class_num)\n",
    "    print(\"class\\t\"+str(class_num))\n",
    "    for image in os.listdir(path):\n",
    "        print(\"image file name\\t\"+str(image))\n",
    "        #image_array=cv2.imread(os.path.join(path,image),cv2.IMREAD_GRAYSCALE)\n",
    "        #print(image_array.shape)\n",
    "        #plt.imshow(image_array, cmap='gray') \n",
    "        plt.show()\n",
    "        break\n",
    "    break"
   ]
  },
  {
   "cell_type": "code",
   "execution_count": 7,
   "metadata": {
    "collapsed": true
   },
   "outputs": [],
   "source": [
    "# IMG_SIZE = 28\n",
    "\n",
    "# new_array = cv2.resize(image_array, (IMG_SIZE, IMG_SIZE))\n",
    "# plt.imshow(new_array, cmap='gray')\n",
    "\n",
    "# plt.show()\n",
    "# new_array.shape"
   ]
  },
  {
   "cell_type": "code",
   "execution_count": 8,
   "metadata": {
    "collapsed": true
   },
   "outputs": [],
   "source": [
    "training_data = []\n",
    "\n",
    "def create_training_data():\n",
    "    for category in categories:  \n",
    "\n",
    "        path = os.path.join(dataset,category) \n",
    "        class_num = categories.index(category)  \n",
    "\n",
    "        for img in tqdm(os.listdir(path)): \n",
    "            try:\n",
    "                img_array = cv2.imread(os.path.join(path,img) ,cv2.IMREAD_GRAYSCALE) \n",
    "                new_array = cv2.resize(img_array, (IMG_SIZE, IMG_SIZE))  \n",
    "                #print(np.array(new_array).shape)\n",
    "                training_data.append([new_array, class_num]) \n",
    "            except Exception as e:  \n",
    "                pass\n",
    "\n",
    "\n"
   ]
  },
  {
   "cell_type": "code",
   "execution_count": 10,
   "metadata": {},
   "outputs": [
    {
     "name": "stderr",
     "output_type": "stream",
     "text": [
      "100%|████████████████████████████████████████████████████████████████████████████████| 104/104 [00:05<00:00, 19.13it/s]\n",
      "100%|████████████████████████████████████████████████████████████████████████████████| 105/105 [00:03<00:00, 45.42it/s]\n"
     ]
    }
   ],
   "source": [
    "create_training_data()"
   ]
  },
  {
   "cell_type": "code",
   "execution_count": 11,
   "metadata": {},
   "outputs": [
    {
     "data": {
      "text/plain": [
       "(28, 28)"
      ]
     },
     "execution_count": 11,
     "metadata": {},
     "output_type": "execute_result"
    }
   ],
   "source": [
    "training_data[:1][0][0].shape"
   ]
  },
  {
   "cell_type": "code",
   "execution_count": 12,
   "metadata": {
    "collapsed": true
   },
   "outputs": [],
   "source": [
    "import random\n",
    "random.shuffle(training_data)\n"
   ]
  },
  {
   "cell_type": "code",
   "execution_count": 13,
   "metadata": {
    "collapsed": true
   },
   "outputs": [],
   "source": [
    "X = []\n",
    "y = []\n",
    "\n",
    "for data in training_data:\n",
    "    X.append(data[0])\n",
    "    y.append(data[1])\n",
    "# print(y)\n",
    "# print(X[0].reshape(-1, IMG_SIZE, IMG_SIZE, 1))\n",
    "\n",
    "X = np.array(X)\n",
    "X=X.reshape(-1, IMG_SIZE, IMG_SIZE, 1)"
   ]
  },
  {
   "cell_type": "code",
   "execution_count": 14,
   "metadata": {},
   "outputs": [
    {
     "data": {
      "text/plain": [
       "(209, 28, 28, 1)"
      ]
     },
     "execution_count": 14,
     "metadata": {},
     "output_type": "execute_result"
    }
   ],
   "source": [
    "# # X.max()\n",
    "# # X.shape\n",
    "X = np.array(X)\n",
    "# X.shape\n",
    "X.shape"
   ]
  },
  {
   "cell_type": "code",
   "execution_count": 15,
   "metadata": {
    "collapsed": true
   },
   "outputs": [],
   "source": [
    "import pickle\n",
    "\n",
    "pickle_out = open(\"X.pickle\",\"wb\")\n",
    "pickle.dump(X, pickle_out)\n",
    "pickle_out.close()\n",
    "\n",
    "pickle_out = open(\"y.pickle\",\"wb\")\n",
    "pickle.dump(y, pickle_out)\n",
    "pickle_out.close()"
   ]
  },
  {
   "cell_type": "code",
   "execution_count": 16,
   "metadata": {
    "collapsed": true
   },
   "outputs": [],
   "source": [
    "pickle_in = open(\"X.pickle\",\"rb\")\n",
    "X = pickle.load(pickle_in)\n",
    "\n",
    "pickle_in = open(\"y.pickle\",\"rb\")\n",
    "y = pickle.load(pickle_in)"
   ]
  },
  {
   "cell_type": "code",
   "execution_count": 17,
   "metadata": {},
   "outputs": [
    {
     "data": {
      "text/plain": [
       "(209, 28, 28, 1)"
      ]
     },
     "execution_count": 17,
     "metadata": {},
     "output_type": "execute_result"
    }
   ],
   "source": [
    "X.shape"
   ]
  },
  {
   "cell_type": "code",
   "execution_count": 18,
   "metadata": {
    "collapsed": true
   },
   "outputs": [],
   "source": [
    "Y=np.array(y)"
   ]
  },
  {
   "cell_type": "code",
   "execution_count": 19,
   "metadata": {
    "collapsed": true
   },
   "outputs": [],
   "source": [
    "X = X/255.0"
   ]
  },
  {
   "cell_type": "code",
   "execution_count": 25,
   "metadata": {
    "collapsed": true
   },
   "outputs": [],
   "source": [
    "shape_of_x=X.shape"
   ]
  },
  {
   "cell_type": "code",
   "execution_count": 28,
   "metadata": {
    "collapsed": true
   },
   "outputs": [],
   "source": [
    "X=X.reshape(shape_of_x[0],shape_of_x[1],shape_of_x[2])"
   ]
  },
  {
   "cell_type": "code",
   "execution_count": 35,
   "metadata": {
    "collapsed": true
   },
   "outputs": [],
   "source": [
    "Y=Y.reshape(-1,1)"
   ]
  },
  {
   "cell_type": "code",
   "execution_count": 20,
   "metadata": {
    "collapsed": true
   },
   "outputs": [],
   "source": [
    "# X_flatten = X.reshape( -1,X.shape[0]).T \n",
    "# y_flatten=Y.reshape(Y.shape[0],-1)"
   ]
  },
  {
   "cell_type": "code",
   "execution_count": 36,
   "metadata": {
    "collapsed": true
   },
   "outputs": [],
   "source": [
    "# X_flatten.shape,y_flatten.shape"
   ]
  },
  {
   "cell_type": "code",
   "execution_count": 150,
   "metadata": {
    "collapsed": true
   },
   "outputs": [],
   "source": [
    "# y_flatten.shape"
   ]
  },
  {
   "cell_type": "code",
   "execution_count": 37,
   "metadata": {
    "collapsed": true
   },
   "outputs": [],
   "source": [
    "# X_flatten.shape"
   ]
  },
  {
   "cell_type": "code",
   "execution_count": 50,
   "metadata": {
    "collapsed": true
   },
   "outputs": [],
   "source": [
    "# single_image = X_flatten[1].reshape(28,28) \n",
    "# plt.imshow(single_image,cmap=\"gray\")\n",
    "# plt.show()"
   ]
  },
  {
   "cell_type": "code",
   "execution_count": 38,
   "metadata": {
    "collapsed": true
   },
   "outputs": [],
   "source": [
    "# plt.imshow(X_flatten[1].reshape(784,1),cmap='gist_gray',aspect=0.02)\n",
    "# plt.show()"
   ]
  },
  {
   "cell_type": "code",
   "execution_count": 39,
   "metadata": {
    "collapsed": true
   },
   "outputs": [],
   "source": [
    "# # X_flatten.shape\n",
    "# y_flatten.shape"
   ]
  },
  {
   "cell_type": "code",
   "execution_count": 40,
   "metadata": {},
   "outputs": [
    {
     "name": "stderr",
     "output_type": "stream",
     "text": [
      "Using TensorFlow backend.\n"
     ]
    }
   ],
   "source": [
    "%matplotlib inline\n",
    "import matplotlib\n",
    "import matplotlib.pyplot as plt\n",
    "import numpy as np\n",
    "from keras.utils import to_categorical\n",
    "from keras import models\n",
    "from keras import layers"
   ]
  },
  {
   "cell_type": "code",
   "execution_count": 43,
   "metadata": {},
   "outputs": [
    {
     "name": "stdout",
     "output_type": "stream",
     "text": [
      "_________________________________________________________________\n",
      "Layer (type)                 Output Shape              Param #   \n",
      "=================================================================\n",
      "flatten_1 (Flatten)          (None, 784)               0         \n",
      "_________________________________________________________________\n",
      "dense_1 (Dense)              (None, 50)                39250     \n",
      "_________________________________________________________________\n",
      "dense_2 (Dense)              (None, 50)                2550      \n",
      "_________________________________________________________________\n",
      "dense_3 (Dense)              (None, 1)                 51        \n",
      "=================================================================\n",
      "Total params: 41,851\n",
      "Trainable params: 41,851\n",
      "Non-trainable params: 0\n",
      "_________________________________________________________________\n"
     ]
    }
   ],
   "source": [
    "model=models.Sequential()\n",
    "model.add(layers.Flatten( input_shape=(28,28)))\n",
    "# Hidden - Layers\n",
    "\n",
    "model.add(layers.Dense(50, activation = \"relu\"))\n",
    "\n",
    "model.add(layers.Dense(50, activation = \"relu\"))\n",
    "# Output- Layer\n",
    "model.add(layers.Dense(1, activation = \"sigmoid\"))\n",
    "model.summary()"
   ]
  },
  {
   "cell_type": "code",
   "execution_count": 44,
   "metadata": {
    "collapsed": true
   },
   "outputs": [],
   "source": [
    "model.compile(\n",
    " optimizer = \"adam\",\n",
    " loss = \"binary_crossentropy\",\n",
    " metrics = [\"accuracy\"]\n",
    ")"
   ]
  },
  {
   "cell_type": "code",
   "execution_count": 49,
   "metadata": {},
   "outputs": [
    {
     "name": "stdout",
     "output_type": "stream",
     "text": [
      "Epoch 1/100\n",
      "209/209 [==============================] - ETA: 0s - loss: 0.3196 - acc: 0.968 - 0s 129us/step - loss: 0.3284 - acc: 0.9043\n",
      "Epoch 2/100\n",
      "209/209 [==============================] - ETA: 0s - loss: 0.3192 - acc: 0.937 - 0s 143us/step - loss: 0.3108 - acc: 0.9187\n",
      "Epoch 3/100\n",
      "209/209 [==============================] - ETA: 0s - loss: 0.3451 - acc: 0.843 - 0s 109us/step - loss: 0.2991 - acc: 0.8995\n",
      "Epoch 4/100\n",
      "209/209 [==============================] - ETA: 0s - loss: 0.2542 - acc: 0.968 - 0s 104us/step - loss: 0.2827 - acc: 0.9234\n",
      "Epoch 5/100\n",
      "209/209 [==============================] - ETA: 0s - loss: 0.3165 - acc: 0.906 - 0s 114us/step - loss: 0.3005 - acc: 0.9187\n",
      "Epoch 6/100\n",
      "209/209 [==============================] - ETA: 0s - loss: 0.3033 - acc: 0.875 - 0s 113us/step - loss: 0.2726 - acc: 0.9378\n",
      "Epoch 7/100\n",
      "209/209 [==============================] - ETA: 0s - loss: 0.2562 - acc: 0.875 - 0s 157us/step - loss: 0.2661 - acc: 0.9187\n",
      "Epoch 8/100\n",
      "209/209 [==============================] - ETA: 0s - loss: 0.2829 - acc: 0.843 - 0s 138us/step - loss: 0.2500 - acc: 0.9330\n",
      "Epoch 9/100\n",
      "209/209 [==============================] - ETA: 0s - loss: 0.2708 - acc: 0.937 - 0s 110us/step - loss: 0.2425 - acc: 0.9282\n",
      "Epoch 10/100\n",
      "209/209 [==============================] - ETA: 0s - loss: 0.1886 - acc: 0.937 - 0s 129us/step - loss: 0.2084 - acc: 0.9522\n",
      "Epoch 11/100\n",
      "209/209 [==============================] - ETA: 0s - loss: 0.2322 - acc: 0.968 - 0s 119us/step - loss: 0.2145 - acc: 0.9617\n",
      "Epoch 12/100\n",
      "209/209 [==============================] - ETA: 0s - loss: 0.1595 - acc: 1.000 - 0s 109us/step - loss: 0.2167 - acc: 0.9378\n",
      "Epoch 13/100\n",
      "209/209 [==============================] - ETA: 0s - loss: 0.1676 - acc: 1.000 - 0s 110us/step - loss: 0.1877 - acc: 0.9522\n",
      "Epoch 14/100\n",
      "209/209 [==============================] - ETA: 0s - loss: 0.2200 - acc: 0.937 - 0s 113us/step - loss: 0.1655 - acc: 0.9713\n",
      "Epoch 15/100\n",
      "209/209 [==============================] - ETA: 0s - loss: 0.1495 - acc: 0.968 - 0s 100us/step - loss: 0.1602 - acc: 0.9665\n",
      "Epoch 16/100\n",
      "209/209 [==============================] - ETA: 0s - loss: 0.1217 - acc: 1.000 - 0s 243us/step - loss: 0.1764 - acc: 0.9569\n",
      "Epoch 17/100\n",
      "209/209 [==============================] - ETA: 0s - loss: 0.1706 - acc: 0.968 - 0s 125us/step - loss: 0.1314 - acc: 0.9856\n",
      "Epoch 18/100\n",
      "209/209 [==============================] - ETA: 0s - loss: 0.1276 - acc: 1.000 - 0s 124us/step - loss: 0.1198 - acc: 0.9809\n",
      "Epoch 19/100\n",
      "209/209 [==============================] - ETA: 0s - loss: 0.1026 - acc: 1.000 - 0s 215us/step - loss: 0.1158 - acc: 0.9904\n",
      "Epoch 20/100\n",
      "209/209 [==============================] - ETA: 0s - loss: 0.0799 - acc: 1.000 - 0s 110us/step - loss: 0.1065 - acc: 0.9952\n",
      "Epoch 21/100\n",
      "209/209 [==============================] - ETA: 0s - loss: 0.0863 - acc: 0.968 - 0s 100us/step - loss: 0.0968 - acc: 0.9904\n",
      "Epoch 22/100\n",
      "209/209 [==============================] - ETA: 0s - loss: 0.1033 - acc: 1.000 - 0s 115us/step - loss: 0.0922 - acc: 1.0000\n",
      "Epoch 23/100\n",
      "209/209 [==============================] - ETA: 0s - loss: 0.0872 - acc: 1.000 - 0s 113us/step - loss: 0.0887 - acc: 0.9856\n",
      "Epoch 24/100\n",
      "209/209 [==============================] - ETA: 0s - loss: 0.1253 - acc: 0.968 - 0s 119us/step - loss: 0.0994 - acc: 0.9904\n",
      "Epoch 25/100\n",
      "209/209 [==============================] - ETA: 0s - loss: 0.0996 - acc: 1.000 - 0s 105us/step - loss: 0.0888 - acc: 0.9904\n",
      "Epoch 26/100\n",
      "209/209 [==============================] - ETA: 0s - loss: 0.0754 - acc: 0.968 - 0s 105us/step - loss: 0.0841 - acc: 0.9856\n",
      "Epoch 27/100\n",
      "209/209 [==============================] - ETA: 0s - loss: 0.0686 - acc: 1.000 - 0s 105us/step - loss: 0.0636 - acc: 1.0000\n",
      "Epoch 28/100\n",
      "209/209 [==============================] - ETA: 0s - loss: 0.0795 - acc: 1.000 - 0s 143us/step - loss: 0.0550 - acc: 1.0000\n",
      "Epoch 29/100\n",
      "209/209 [==============================] - ETA: 0s - loss: 0.0855 - acc: 1.000 - 0s 110us/step - loss: 0.0537 - acc: 1.0000\n",
      "Epoch 30/100\n",
      "209/209 [==============================] - ETA: 0s - loss: 0.0533 - acc: 1.000 - 0s 110us/step - loss: 0.0498 - acc: 1.0000\n",
      "Epoch 31/100\n",
      "209/209 [==============================] - ETA: 0s - loss: 0.0431 - acc: 1.000 - 0s 105us/step - loss: 0.0463 - acc: 1.0000\n",
      "Epoch 32/100\n",
      "209/209 [==============================] - ETA: 0s - loss: 0.0361 - acc: 1.000 - 0s 110us/step - loss: 0.0407 - acc: 1.0000\n",
      "Epoch 33/100\n",
      "209/209 [==============================] - ETA: 0s - loss: 0.0341 - acc: 1.000 - 0s 105us/step - loss: 0.0380 - acc: 1.0000\n",
      "Epoch 34/100\n",
      "209/209 [==============================] - ETA: 0s - loss: 0.0307 - acc: 1.000 - 0s 109us/step - loss: 0.0379 - acc: 1.0000\n",
      "Epoch 35/100\n",
      "209/209 [==============================] - ETA: 0s - loss: 0.0398 - acc: 1.000 - 0s 102us/step - loss: 0.0395 - acc: 1.0000\n",
      "Epoch 36/100\n",
      "209/209 [==============================] - ETA: 0s - loss: 0.0467 - acc: 1.000 - 0s 107us/step - loss: 0.0395 - acc: 0.9952\n",
      "Epoch 37/100\n",
      "209/209 [==============================] - ETA: 0s - loss: 0.0296 - acc: 1.000 - 0s 110us/step - loss: 0.0317 - acc: 1.0000\n",
      "Epoch 38/100\n",
      "209/209 [==============================] - ETA: 0s - loss: 0.0259 - acc: 1.000 - 0s 124us/step - loss: 0.0285 - acc: 1.0000\n",
      "Epoch 39/100\n",
      "209/209 [==============================] - ETA: 0s - loss: 0.0182 - acc: 1.000 - 0s 114us/step - loss: 0.0263 - acc: 1.0000\n",
      "Epoch 40/100\n",
      "209/209 [==============================] - ETA: 0s - loss: 0.0282 - acc: 1.000 - 0s 110us/step - loss: 0.0347 - acc: 1.0000\n",
      "Epoch 41/100\n",
      "209/209 [==============================] - ETA: 0s - loss: 0.0818 - acc: 1.000 - 0s 205us/step - loss: 0.0423 - acc: 1.0000\n",
      "Epoch 42/100\n",
      "209/209 [==============================] - ETA: 0s - loss: 0.0342 - acc: 1.000 - 0s 136us/step - loss: 0.0342 - acc: 1.0000\n",
      "Epoch 43/100\n",
      "209/209 [==============================] - ETA: 0s - loss: 0.0368 - acc: 1.000 - 0s 138us/step - loss: 0.0330 - acc: 1.0000\n",
      "Epoch 44/100\n",
      "209/209 [==============================] - ETA: 0s - loss: 0.0178 - acc: 1.000 - 0s 138us/step - loss: 0.0202 - acc: 1.0000\n",
      "Epoch 45/100\n",
      "209/209 [==============================] - ETA: 0s - loss: 0.0217 - acc: 1.000 - 0s 129us/step - loss: 0.0196 - acc: 1.0000\n",
      "Epoch 46/100\n",
      "209/209 [==============================] - ETA: 0s - loss: 0.0201 - acc: 1.000 - 0s 110us/step - loss: 0.0179 - acc: 1.0000\n",
      "Epoch 47/100\n",
      "209/209 [==============================] - ETA: 0s - loss: 0.0168 - acc: 1.000 - 0s 105us/step - loss: 0.0291 - acc: 1.0000\n",
      "Epoch 48/100\n",
      "209/209 [==============================] - ETA: 0s - loss: 0.0156 - acc: 1.000 - 0s 110us/step - loss: 0.0251 - acc: 1.0000\n",
      "Epoch 49/100\n",
      "209/209 [==============================] - ETA: 0s - loss: 0.0340 - acc: 1.000 - 0s 119us/step - loss: 0.0220 - acc: 1.0000\n",
      "Epoch 50/100\n",
      "209/209 [==============================] - ETA: 0s - loss: 0.0229 - acc: 1.000 - 0s 196us/step - loss: 0.0204 - acc: 1.0000\n",
      "Epoch 51/100\n",
      "209/209 [==============================] - ETA: 0s - loss: 0.0163 - acc: 1.000 - 0s 110us/step - loss: 0.0183 - acc: 1.0000\n",
      "Epoch 52/100\n",
      "209/209 [==============================] - ETA: 0s - loss: 0.0125 - acc: 1.000 - 0s 191us/step - loss: 0.0169 - acc: 1.0000\n",
      "Epoch 53/100\n",
      "209/209 [==============================] - ETA: 0s - loss: 0.0115 - acc: 1.000 - 0s 138us/step - loss: 0.0148 - acc: 1.0000\n",
      "Epoch 54/100\n",
      "209/209 [==============================] - ETA: 0s - loss: 0.0082 - acc: 1.000 - 0s 153us/step - loss: 0.0117 - acc: 1.0000\n",
      "Epoch 55/100\n",
      "209/209 [==============================] - ETA: 0s - loss: 0.0105 - acc: 1.000 - 0s 144us/step - loss: 0.0108 - acc: 1.0000\n",
      "Epoch 56/100\n",
      "209/209 [==============================] - ETA: 0s - loss: 0.0082 - acc: 1.000 - 0s 118us/step - loss: 0.0097 - acc: 1.0000\n",
      "Epoch 57/100\n",
      "209/209 [==============================] - ETA: 0s - loss: 0.0067 - acc: 1.000 - 0s 146us/step - loss: 0.0090 - acc: 1.0000\n",
      "Epoch 58/100\n",
      "209/209 [==============================] - ETA: 0s - loss: 0.0087 - acc: 1.000 - 0s 110us/step - loss: 0.0088 - acc: 1.0000\n",
      "Epoch 59/100\n",
      "209/209 [==============================] - ETA: 0s - loss: 0.0101 - acc: 1.000 - 0s 138us/step - loss: 0.0083 - acc: 1.0000\n",
      "Epoch 60/100\n",
      "209/209 [==============================] - ETA: 0s - loss: 0.0082 - acc: 1.000 - 0s 105us/step - loss: 0.0080 - acc: 1.0000\n"
     ]
    },
    {
     "name": "stdout",
     "output_type": "stream",
     "text": [
      "Epoch 61/100\n",
      "209/209 [==============================] - ETA: 0s - loss: 0.0078 - acc: 1.000 - 0s 110us/step - loss: 0.0075 - acc: 1.0000\n",
      "Epoch 62/100\n",
      "209/209 [==============================] - ETA: 0s - loss: 0.0058 - acc: 1.000 - 0s 134us/step - loss: 0.0073 - acc: 1.0000\n",
      "Epoch 63/100\n",
      "209/209 [==============================] - ETA: 0s - loss: 0.0056 - acc: 1.000 - 0s 143us/step - loss: 0.0070 - acc: 1.0000\n",
      "Epoch 64/100\n",
      "209/209 [==============================] - ETA: 0s - loss: 0.0119 - acc: 1.000 - 0s 129us/step - loss: 0.0067 - acc: 1.0000\n",
      "Epoch 65/100\n",
      "209/209 [==============================] - ETA: 0s - loss: 0.0075 - acc: 1.000 - 0s 119us/step - loss: 0.0067 - acc: 1.0000\n",
      "Epoch 66/100\n",
      "209/209 [==============================] - ETA: 0s - loss: 0.0103 - acc: 1.000 - 0s 143us/step - loss: 0.0066 - acc: 1.0000\n",
      "Epoch 67/100\n",
      "209/209 [==============================] - ETA: 0s - loss: 0.0047 - acc: 1.000 - 0s 138us/step - loss: 0.0064 - acc: 1.0000\n",
      "Epoch 68/100\n",
      "209/209 [==============================] - ETA: 0s - loss: 0.0050 - acc: 1.000 - 0s 131us/step - loss: 0.0060 - acc: 1.0000\n",
      "Epoch 69/100\n",
      "209/209 [==============================] - ETA: 0s - loss: 0.0062 - acc: 1.000 - 0s 137us/step - loss: 0.0058 - acc: 1.0000\n",
      "Epoch 70/100\n",
      "209/209 [==============================] - ETA: 0s - loss: 0.0063 - acc: 1.000 - 0s 115us/step - loss: 0.0059 - acc: 1.0000\n",
      "Epoch 71/100\n",
      "209/209 [==============================] - ETA: 0s - loss: 0.0051 - acc: 1.000 - 0s 129us/step - loss: 0.0055 - acc: 1.0000\n",
      "Epoch 72/100\n",
      "209/209 [==============================] - ETA: 0s - loss: 0.0051 - acc: 1.000 - 0s 138us/step - loss: 0.0054 - acc: 1.0000\n",
      "Epoch 73/100\n",
      "209/209 [==============================] - ETA: 0s - loss: 0.0047 - acc: 1.000 - 0s 137us/step - loss: 0.0050 - acc: 1.0000\n",
      "Epoch 74/100\n",
      "209/209 [==============================] - ETA: 0s - loss: 0.0059 - acc: 1.000 - 0s 110us/step - loss: 0.0050 - acc: 1.0000\n",
      "Epoch 75/100\n",
      "209/209 [==============================] - ETA: 0s - loss: 0.0053 - acc: 1.000 - 0s 129us/step - loss: 0.0047 - acc: 1.0000\n",
      "Epoch 76/100\n",
      "209/209 [==============================] - ETA: 0s - loss: 0.0048 - acc: 1.000 - 0s 153us/step - loss: 0.0046 - acc: 1.0000\n",
      "Epoch 77/100\n",
      "209/209 [==============================] - ETA: 0s - loss: 0.0051 - acc: 1.000 - 0s 143us/step - loss: 0.0045 - acc: 1.0000\n",
      "Epoch 78/100\n",
      "209/209 [==============================] - ETA: 0s - loss: 0.0042 - acc: 1.000 - 0s 153us/step - loss: 0.0044 - acc: 1.0000\n",
      "Epoch 79/100\n",
      "209/209 [==============================] - ETA: 0s - loss: 0.0063 - acc: 1.000 - 0s 134us/step - loss: 0.0043 - acc: 1.0000\n",
      "Epoch 80/100\n",
      "209/209 [==============================] - ETA: 0s - loss: 0.0033 - acc: 1.000 - 0s 148us/step - loss: 0.0044 - acc: 1.0000\n",
      "Epoch 81/100\n",
      "209/209 [==============================] - ETA: 0s - loss: 0.0028 - acc: 1.000 - 0s 153us/step - loss: 0.0041 - acc: 1.0000\n",
      "Epoch 82/100\n",
      "209/209 [==============================] - ETA: 0s - loss: 0.0040 - acc: 1.000 - 0s 140us/step - loss: 0.0039 - acc: 1.0000\n",
      "Epoch 83/100\n",
      "209/209 [==============================] - ETA: 0s - loss: 0.0054 - acc: 1.000 - 0s 157us/step - loss: 0.0038 - acc: 1.0000\n",
      "Epoch 84/100\n",
      "209/209 [==============================] - ETA: 0s - loss: 0.0025 - acc: 1.000 - 0s 158us/step - loss: 0.0039 - acc: 1.0000\n",
      "Epoch 85/100\n",
      "209/209 [==============================] - ETA: 0s - loss: 0.0045 - acc: 1.000 - 0s 138us/step - loss: 0.0036 - acc: 1.0000\n",
      "Epoch 86/100\n",
      "209/209 [==============================] - ETA: 0s - loss: 0.0031 - acc: 1.000 - 0s 138us/step - loss: 0.0036 - acc: 1.0000\n",
      "Epoch 87/100\n",
      "209/209 [==============================] - ETA: 0s - loss: 0.0030 - acc: 1.000 - 0s 119us/step - loss: 0.0035 - acc: 1.0000\n",
      "Epoch 88/100\n",
      "209/209 [==============================] - ETA: 0s - loss: 0.0045 - acc: 1.000 - 0s 126us/step - loss: 0.0034 - acc: 1.0000\n",
      "Epoch 89/100\n",
      "209/209 [==============================] - ETA: 0s - loss: 0.0027 - acc: 1.000 - 0s 124us/step - loss: 0.0033 - acc: 1.0000\n",
      "Epoch 90/100\n",
      "209/209 [==============================] - ETA: 0s - loss: 0.0032 - acc: 1.000 - 0s 115us/step - loss: 0.0031 - acc: 1.0000\n",
      "Epoch 91/100\n",
      "209/209 [==============================] - ETA: 0s - loss: 0.0038 - acc: 1.000 - 0s 157us/step - loss: 0.0031 - acc: 1.0000\n",
      "Epoch 92/100\n",
      "209/209 [==============================] - ETA: 0s - loss: 0.0031 - acc: 1.000 - 0s 125us/step - loss: 0.0031 - acc: 1.0000\n",
      "Epoch 93/100\n",
      "209/209 [==============================] - ETA: 0s - loss: 0.0034 - acc: 1.000 - 0s 134us/step - loss: 0.0030 - acc: 1.0000\n",
      "Epoch 94/100\n",
      "209/209 [==============================] - ETA: 0s - loss: 0.0030 - acc: 1.000 - 0s 138us/step - loss: 0.0029 - acc: 1.0000\n",
      "Epoch 95/100\n",
      "209/209 [==============================] - ETA: 0s - loss: 0.0036 - acc: 1.000 - 0s 162us/step - loss: 0.0028 - acc: 1.0000\n",
      "Epoch 96/100\n",
      "209/209 [==============================] - ETA: 0s - loss: 0.0023 - acc: 1.000 - 0s 134us/step - loss: 0.0028 - acc: 1.0000\n",
      "Epoch 97/100\n",
      "209/209 [==============================] - ETA: 0s - loss: 0.0020 - acc: 1.000 - 0s 129us/step - loss: 0.0027 - acc: 1.0000\n",
      "Epoch 98/100\n",
      "209/209 [==============================] - ETA: 0s - loss: 0.0020 - acc: 1.000 - 0s 141us/step - loss: 0.0026 - acc: 1.0000\n",
      "Epoch 99/100\n",
      "209/209 [==============================] - ETA: 0s - loss: 0.0030 - acc: 1.000 - 0s 124us/step - loss: 0.0025 - acc: 1.0000\n",
      "Epoch 100/100\n",
      "209/209 [==============================] - ETA: 0s - loss: 0.0021 - acc: 1.000 - 0s 149us/step - loss: 0.0025 - acc: 1.0000\n"
     ]
    }
   ],
   "source": [
    "history=model.fit(X,Y,epochs= 100)"
   ]
  },
  {
   "cell_type": "code",
   "execution_count": 124,
   "metadata": {},
   "outputs": [
    {
     "data": {
      "text/plain": [
       "{'acc': [0.9043062203808835,\n",
       "  0.9186602873665294,\n",
       "  0.8995215322412372,\n",
       "  0.9234449769321241,\n",
       "  0.9186602873665294,\n",
       "  0.9377990433473906,\n",
       "  0.9186602876517191,\n",
       "  0.933014354637365,\n",
       "  0.9282296650717703,\n",
       "  0.9521531103330366,\n",
       "  0.9617224888938466,\n",
       "  0.9377990433473906,\n",
       "  0.9521531100478469,\n",
       "  0.9712918660287081,\n",
       "  0.9665071770334929,\n",
       "  0.9569377990430622,\n",
       "  0.9856459330143541,\n",
       "  0.9808612443043284,\n",
       "  0.9904306220095693,\n",
       "  0.9952153110047847,\n",
       "  0.9904306220095693,\n",
       "  1.0,\n",
       "  0.9856459335847334,\n",
       "  0.9904306220095693,\n",
       "  0.9904306220095693,\n",
       "  0.9856459332995438,\n",
       "  1.0,\n",
       "  1.0,\n",
       "  1.0,\n",
       "  1.0,\n",
       "  1.0,\n",
       "  1.0,\n",
       "  1.0,\n",
       "  1.0,\n",
       "  1.0,\n",
       "  0.9952153110047847,\n",
       "  1.0,\n",
       "  1.0,\n",
       "  1.0,\n",
       "  1.0,\n",
       "  1.0,\n",
       "  1.0,\n",
       "  1.0,\n",
       "  1.0,\n",
       "  1.0,\n",
       "  1.0,\n",
       "  1.0,\n",
       "  1.0,\n",
       "  1.0,\n",
       "  1.0,\n",
       "  1.0,\n",
       "  1.0,\n",
       "  1.0,\n",
       "  1.0,\n",
       "  1.0,\n",
       "  1.0,\n",
       "  1.0,\n",
       "  1.0,\n",
       "  1.0,\n",
       "  1.0,\n",
       "  1.0,\n",
       "  1.0,\n",
       "  1.0,\n",
       "  1.0,\n",
       "  1.0,\n",
       "  1.0,\n",
       "  1.0,\n",
       "  1.0,\n",
       "  1.0,\n",
       "  1.0,\n",
       "  1.0,\n",
       "  1.0,\n",
       "  1.0,\n",
       "  1.0,\n",
       "  1.0,\n",
       "  1.0,\n",
       "  1.0,\n",
       "  1.0,\n",
       "  1.0,\n",
       "  1.0,\n",
       "  1.0,\n",
       "  1.0,\n",
       "  1.0,\n",
       "  1.0,\n",
       "  1.0,\n",
       "  1.0,\n",
       "  1.0,\n",
       "  1.0,\n",
       "  1.0,\n",
       "  1.0,\n",
       "  1.0,\n",
       "  1.0,\n",
       "  1.0,\n",
       "  1.0,\n",
       "  1.0,\n",
       "  1.0,\n",
       "  1.0,\n",
       "  1.0,\n",
       "  1.0,\n",
       "  1.0],\n",
       " 'loss': [0.3283663879741322,\n",
       "  0.31076692950212215,\n",
       "  0.2990815417047893,\n",
       "  0.2827292026230023,\n",
       "  0.3005464982473109,\n",
       "  0.2725700609136426,\n",
       "  0.266137000761534,\n",
       "  0.24997175295957538,\n",
       "  0.24249875082068467,\n",
       "  0.20842479917991674,\n",
       "  0.21450780895338104,\n",
       "  0.21674748827395826,\n",
       "  0.1877197922702041,\n",
       "  0.1654836780716928,\n",
       "  0.1602403253102987,\n",
       "  0.17636792846558766,\n",
       "  0.13135358634177577,\n",
       "  0.11976785173541621,\n",
       "  0.11582982083827115,\n",
       "  0.10646204072892951,\n",
       "  0.09678881155531943,\n",
       "  0.09221397129970305,\n",
       "  0.08869759923818579,\n",
       "  0.09938575790829636,\n",
       "  0.08879070696933418,\n",
       "  0.0840549347075549,\n",
       "  0.06358347373288215,\n",
       "  0.05503835691290609,\n",
       "  0.0536784623442084,\n",
       "  0.04979402331287781,\n",
       "  0.0462774978014841,\n",
       "  0.04074336406574295,\n",
       "  0.03802462064763576,\n",
       "  0.03790030546450729,\n",
       "  0.03946607472580015,\n",
       "  0.0395130715266084,\n",
       "  0.03165170620752579,\n",
       "  0.028490162904610473,\n",
       "  0.02626143946673311,\n",
       "  0.0347488841763809,\n",
       "  0.04230386961661457,\n",
       "  0.03416184981188706,\n",
       "  0.03302003674066523,\n",
       "  0.020226287918441603,\n",
       "  0.01958754304885579,\n",
       "  0.01786737574005954,\n",
       "  0.029083605686371975,\n",
       "  0.025064221962074345,\n",
       "  0.021986205081798528,\n",
       "  0.02035991275353295,\n",
       "  0.018337453630837528,\n",
       "  0.016859718843510275,\n",
       "  0.014849611901138959,\n",
       "  0.011659222819873591,\n",
       "  0.010789087906693728,\n",
       "  0.009719529545656518,\n",
       "  0.009010770318040437,\n",
       "  0.008829579659644069,\n",
       "  0.008290448553557173,\n",
       "  0.008033259223665348,\n",
       "  0.007544785229997201,\n",
       "  0.007260062495629753,\n",
       "  0.0070294508260438605,\n",
       "  0.0067330359271838905,\n",
       "  0.00666846685628429,\n",
       "  0.006599154125043507,\n",
       "  0.00641498651408978,\n",
       "  0.005961724966942693,\n",
       "  0.005837786452550637,\n",
       "  0.005900497714271457,\n",
       "  0.005517433620276348,\n",
       "  0.00540777842367166,\n",
       "  0.005046439791570582,\n",
       "  0.004956185510248373,\n",
       "  0.004739008453990997,\n",
       "  0.004561490537465046,\n",
       "  0.004496555777632021,\n",
       "  0.004403647995647488,\n",
       "  0.004287381672064225,\n",
       "  0.004364740397585065,\n",
       "  0.004145712893050717,\n",
       "  0.0038724145852029324,\n",
       "  0.0038372464143809236,\n",
       "  0.003935233470382231,\n",
       "  0.0035782549819913492,\n",
       "  0.0036365485785787473,\n",
       "  0.0034715247988861284,\n",
       "  0.0033600536290930502,\n",
       "  0.0032838777055224162,\n",
       "  0.0031473379015129364,\n",
       "  0.003059789477112262,\n",
       "  0.0030549447092285565,\n",
       "  0.003004554678066567,\n",
       "  0.002861527818518036,\n",
       "  0.002806977230752484,\n",
       "  0.0027614796420550375,\n",
       "  0.0026759104201632537,\n",
       "  0.0025923565725247824,\n",
       "  0.0025464174723136795,\n",
       "  0.002527774847446803]}"
      ]
     },
     "execution_count": 124,
     "metadata": {},
     "output_type": "execute_result"
    }
   ],
   "source": [
    "history.history"
   ]
  },
  {
   "cell_type": "code",
   "execution_count": 115,
   "metadata": {},
   "outputs": [
    {
     "name": "stdout",
     "output_type": "stream",
     "text": [
      "(28, 28)\n",
      "the fatal brain is anomaly\n"
     ]
    },
    {
     "data": {
      "image/png": "[encoded data removed]",
      "text/plain": [
       "<matplotlib.figure.Figure at 0x1f280089160>"
      ]
     },
     "metadata": {},
     "output_type": "display_data"
    }
   ],
   "source": [
    "anomaly=\"./Brain/Anomaly/xyz_a2779_35c.jpg\"\n",
    "normal=\"./Brain/Normal/xyz_a8458_16a.jpg\"\n",
    "image_array=cv2.imread(anomaly,cv2.IMREAD_GRAYSCALE)\n",
    "       \n",
    "IMG_SIZE=28\n",
    "new_array = cv2.resize(image_array, (IMG_SIZE, IMG_SIZE))\n",
    "plt.imshow(new_array, cmap='gray') \n",
    "print(new_array.shape)\n",
    "#plt.show()\n",
    "new_array=new_array/255  \n",
    "new_array=new_array.reshape(1,new_array.shape[0],new_array.shape[1])\n",
    "# print(model.predict_classes(new_array)[0][0])\n",
    "if model.predict_classes(new_array)[0][0]==0:\n",
    "    print(\"the fatal brain is anomaly\")\n",
    "else:\n",
    "    print(\"the fatal brain is normal condition\")"
   ]
  },
  {
   "cell_type": "code",
   "execution_count": 109,
   "metadata": {
    "collapsed": true
   },
   "outputs": [],
   "source": []
  },
  {
   "cell_type": "code",
   "execution_count": 110,
   "metadata": {
    "collapsed": true
   },
   "outputs": [],
   "source": []
  },
  {
   "cell_type": "code",
   "execution_count": 111,
   "metadata": {},
   "outputs": [
    {
     "data": {
      "text/plain": [
       "array([[0]])"
      ]
     },
     "execution_count": 111,
     "metadata": {},
     "output_type": "execute_result"
    }
   ],
   "source": []
  },
  {
   "cell_type": "code",
   "execution_count": 116,
   "metadata": {},
   "outputs": [
    {
     "data": {
      "image/png": "[encoded data removed]",
      "text/plain": [
       "<matplotlib.figure.Figure at 0x1f28011da58>"
      ]
     },
     "metadata": {},
     "output_type": "display_data"
    },
    {
     "data": {
      "image/png": "[encoded data removed]",
      "text/plain": [
       "<matplotlib.figure.Figure at 0x1f2800910b8>"
      ]
     },
     "metadata": {},
     "output_type": "display_data"
    }
   ],
   "source": [
    "import matplotlib.pyplot as plt\n",
    "acc=history.history[\"acc\"]\n",
    "#val_acc=history.history[\"val_acc\"]\n",
    "loss=history.history[\"loss\"]\n",
    "#val_loss=history.history[\"val_loss\"]\n",
    "epochs=range(1,len(acc)+1)\n",
    "plt.plot(epochs,acc,\"y\",label=\"Training_acc\")\n",
    "#plt.plot(epochs,val_acc,'b',label=\"validation_acc\")\n",
    "plt.title(\"training and validation accuracy\")\n",
    "plt.legend()\n",
    "plt.figure()\n",
    "plt.plot(epochs,loss,\"y\",label=\"Training_loss\")\n",
    "#plt.plot(epochs,val_loss,'b',label=\"validation_loss\")\n",
    "plt.title(\"training and validation loss\")\n",
    "plt.legend()\n",
    "plt.show()"
   ]
  },
  {
   "cell_type": "code",
   "execution_count": 123,
   "metadata": {},
   "outputs": [
    {
     "name": "stdout",
     "output_type": "stream",
     "text": [
      "Saved model to disk\n",
      "Loaded model from disk\n"
     ]
    }
   ],
   "source": [
    "# serialize model to JSON\n",
    "from keras.models import model_from_json\n",
    "model_json = model.to_json()\n",
    "with open(\"model.json\", \"w\") as json_file:\n",
    "    json_file.write(model_json)\n",
    "# serialize weights to HDF5\n",
    "model.save_weights(\"model.h5\")\n",
    "print(\"Saved model to disk\")\n",
    " \n",
    "# later...\n",
    " \n",
    "# load json and create model\n",
    "json_file = open('model.json', 'r')\n",
    "loaded_model_json = json_file.read()\n",
    "json_file.close()\n",
    "loaded_model = model_from_json(loaded_model_json)\n",
    "# load weights into new model\n",
    "loaded_model.load_weights(\"model.h5\")\n",
    "print(\"Loaded model from disk\")"
   ]
  },
  {
   "cell_type": "code",
   "execution_count": 120,
   "metadata": {},
   "outputs": [
    {
     "data": {
      "text/plain": [
       "<keras.engine.sequential.Sequential at 0x1f2fc5a4d30>"
      ]
     },
     "execution_count": 120,
     "metadata": {},
     "output_type": "execute_result"
    }
   ],
   "source": [
    "#hey this is vinoht "
   ]
  }
 ],
 "metadata": {
  "kernelspec": {
   "display_name": "Python 3",
   "language": "python",
   "name": "python3"
  },
  "language_info": {
   "codemirror_mode": {
    "name": "ipython",
    "version": 3
   },
   "file_extension": ".py",
   "mimetype": "text/x-python",
   "name": "python",
   "nbconvert_exporter": "python",
   "pygments_lexer": "ipython3",
   "version": "3.5.4"
  }
 },
 "nbformat": 4,
 "nbformat_minor": 2
}
